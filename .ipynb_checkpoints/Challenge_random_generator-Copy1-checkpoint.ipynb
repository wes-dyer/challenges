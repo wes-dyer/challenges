{
 "cells": [
  {
   "cell_type": "markdown",
   "metadata": {},
   "source": [
    "# **Challenge: Random Plot Generator**\n",
    " "
   ]
  },
  {
   "cell_type": "markdown",
   "metadata": {},
   "source": [
    "### Wes Dyer \n",
    "### 19-Feb-2020"
   ]
  },
  {
   "cell_type": "code",
   "execution_count": 51,
   "metadata": {},
   "outputs": [],
   "source": [
    "#import module \n",
    "import random"
   ]
  },
  {
   "cell_type": "code",
   "execution_count": 55,
   "metadata": {},
   "outputs": [],
   "source": [
    "# treatments \n",
    "tmts = [\"N0\", \"N25\", \"N50\", \"N100\", \"N200\"] # N in kg/ha\n",
    "# replications\n",
    "reps = 4  # total number of replications"
   ]
  },
  {
   "cell_type": "markdown",
   "metadata": {},
   "source": [
    "### **Randomized Complete Block**"
   ]
  },
  {
   "cell_type": "code",
   "execution_count": 147,
   "metadata": {},
   "outputs": [
    {
     "name": "stdout",
     "output_type": "stream",
     "text": [
      "Replication 1 ['N100', 'N25', 'N50', 'N0', 'N200']\n",
      "Replication 2 ['N25', 'N0', 'N50', 'N200', 'N100']\n",
      "Replication 3 ['N50', 'N25', 'N200', 'N100', 'N0']\n",
      "Replication 4 ['N100', 'N0', 'N25', 'N200', 'N50']\n"
     ]
    }
   ],
   "source": [
    "#randomized complete block design \n",
    "# In this experimental layout, treatments do not repeat within each replication.\n",
    "\n",
    "for i in range(reps): #for loop\n",
    "    \n",
    "    RCB = random.sample(tmts, k = 5) #randomize treatments | k = 5 the length/number in list \n",
    "    \n",
    "    print('Replication', i + 1, RCB) # display output | add 1 to i \n",
    "    "
   ]
  },
  {
   "cell_type": "markdown",
   "metadata": {},
   "source": [
    "### **Complete Randomized Design**     "
   ]
  },
  {
   "cell_type": "code",
   "execution_count": 148,
   "metadata": {},
   "outputs": [
    {
     "name": "stdout",
     "output_type": "stream",
     "text": [
      "Replication 1 ['N25', 'N100', 'N25', 'N200', 'N50']\n",
      "Replication 2 ['N0', 'N50', 'N200', 'N100', 'N200']\n",
      "Replication 3 ['N25', 'N0', 'N0', 'N25', 'N50']\n",
      "Replication 4 ['N100', 'N100', 'N50', 'N0', 'N200']\n"
     ]
    }
   ],
   "source": [
    "#Complete randomized design \n",
    "#In this experimental layout,treatments may appear within the same replication more than once. \n",
    "\n",
    "tmts_reps = tmts * reps #creates a list of 20 \n",
    "\n",
    "CRD = random.sample(tmts_reps, k=20) #randomizes all 5 treatments into a list of 20 \n",
    "\n",
    "#Prints a list of 5 into 4 replications. \n",
    "#Each treatment is replicated 4 times and can be repeated more than once in the same replication. \n",
    "print('Replication 1', CRD[0:5])\n",
    "print('Replication 2', CRD[5:10])\n",
    "print('Replication 3', CRD[10:15])\n",
    "print('Replication 4', CRD[15:20])"
   ]
  },
  {
   "cell_type": "markdown",
   "metadata": {},
   "source": [
    "#### **Comments** \n",
    "I was not able to get a for loop to work for the CRD. Most of my efforts would have treatments repeated more or less than 4 times. <br/>\n",
    "However, I was able to achieve an CRD output by creating a random list of 20 and pulling from the list. **I know this is not efficient.**"
   ]
  },
  {
   "cell_type": "code",
   "execution_count": null,
   "metadata": {},
   "outputs": [],
   "source": []
  }
 ],
 "metadata": {
  "kernelspec": {
   "display_name": "Python 3",
   "language": "python",
   "name": "python3"
  },
  "language_info": {
   "codemirror_mode": {
    "name": "ipython",
    "version": 3
   },
   "file_extension": ".py",
   "mimetype": "text/x-python",
   "name": "python",
   "nbconvert_exporter": "python",
   "pygments_lexer": "ipython3",
   "version": "3.7.4"
  }
 },
 "nbformat": 4,
 "nbformat_minor": 4
}
