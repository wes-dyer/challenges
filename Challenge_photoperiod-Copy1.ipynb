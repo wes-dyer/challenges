{
 "cells": [
  {
   "cell_type": "markdown",
   "metadata": {},
   "source": [
    "# **Challenge: Photoperiod**\n",
    "\n",
    "### Wes Dyer\n",
    "### 12-Feb-2020"
   ]
  },
  {
   "cell_type": "code",
   "execution_count": 1,
   "metadata": {},
   "outputs": [],
   "source": [
    "#import modules \n",
    "import datetime  \n",
    "import math "
   ]
  },
  {
   "cell_type": "markdown",
   "metadata": {},
   "source": [
    "### **User Input**: < Latitude > and < Date >"
   ]
  },
  {
   "cell_type": "code",
   "execution_count": null,
   "metadata": {},
   "outputs": [
    {
     "name": "stdin",
     "output_type": "stream",
     "text": [
      "latitude: 45\n"
     ]
    }
   ],
   "source": [
    "latitude = input('latitude:') #input latitude in decimal degrees\n",
    "latitude = float(latitude) #float converts 'latitude' from a string to a number\n",
    "\n",
    "date = input('date:') #input date in the following format <dd-mmm-yyyy> for example <12-feb-2020> (month in lowercase)\n",
    "date = datetime.datetime.strptime(date, \"%d-%b-%Y\")\n",
    "print(type(date))\n",
    "\n",
    "doy = date.timetuple().tm_yday\n",
    "print('Day of year:', doy)"
   ]
  },
  {
   "cell_type": "markdown",
   "metadata": {},
   "source": [
    "### **Determining Day Length:**"
   ]
  },
  {
   "cell_type": "code",
   "execution_count": 5,
   "metadata": {},
   "outputs": [
    {
     "name": "stdout",
     "output_type": "stream",
     "text": [
      "Day length in hours: 14.2\n"
     ]
    }
   ],
   "source": [
    "#equation [5]\n",
    "light_intensity = 2.206 * 10**-3 #cal/cm^2/min\n",
    "B = -4.76-1.03*math.log(light_intensity) \n",
    "\n",
    "#equation [6]\n",
    "alpha = 90 + B #zenithal distance\n",
    "\n",
    "#equation [4]\n",
    "M = 0.985600 * doy - 3.251 \n",
    "\n",
    "#equation [3]\n",
    "lam = M + 1.916 * math.sin(M) + 0.020 * math.sin(2 * M) + 282.565 \n",
    "\n",
    "#equation [2]\n",
    "delta = math.degrees(math.asin(0.39779)) * math.sin(math.radians(lam))  # angle of declination \n",
    "\n",
    "#equation [1]\n",
    "day_length = 2/15 * math.degrees(math.acos(math.cos(math.radians(alpha)) * 1 / math.cos(math.radians(latitude)) * 1 / math.cos(math.radians(delta)) - math.tan(math.radians(latitude)) * math.tan(math.radians(delta))))                                 \n",
    "print('Day length in hours:', round(day_length,1))"
   ]
  },
  {
   "cell_type": "markdown",
   "metadata": {},
   "source": [
    "---"
   ]
  },
  {
   "cell_type": "markdown",
   "metadata": {},
   "source": [
    "### Equations: \n",
    "$Day \\ length = \\frac{2}{15} * arc \\ cos[cos\\alpha \\ sec\\phi \\ sec\\delta - tan\\phi \\ tan\\delta] \\ \\ \\ \\ \\ \\ \\ eq.[ 1 ] $<br/>\n",
    "\n",
    "$\\delta = arc \\ sin{0.39779 * sin \\lambda} \\ \\ \\ \\ \\ \\ \\   eq.[ 2 ]$ <br/>\n",
    "\n",
    "$\\lambda = M + 1.916 \\ sinM + 0.020 \\ sin2M + 282.565 \\ \\ \\ \\ \\ \\ \\ eq.[ 3 ]$ <br/>\n",
    "\n",
    "$M = 0.985600t - 3.251 \\ \\ \\ \\ \\ \\ \\ eq.[ 4 ] $<br/>\n",
    "\n",
    "$B = -4.76 - 1.03 * ln(Light \\ Intensity) \\ \\ \\ \\ \\ \\ \\ eq.[ 5 ]$ <br/>\n",
    "\n",
    "$ \\alpha = 90 + B \\ \\ \\ \\ \\ \\ \\ eq.[ 6 ] $ <br/> \n",
    "\n",
    "### Reference:\n",
    "Keisling, T.C., 1982. Calculation of the Length of Day 1. Agronomy Journal, 74(4), pp.758-759."
   ]
  },
  {
   "cell_type": "code",
   "execution_count": null,
   "metadata": {},
   "outputs": [],
   "source": []
  }
 ],
 "metadata": {
  "kernelspec": {
   "display_name": "Python 3",
   "language": "python",
   "name": "python3"
  },
  "language_info": {
   "codemirror_mode": {
    "name": "ipython",
    "version": 3
   },
   "file_extension": ".py",
   "mimetype": "text/x-python",
   "name": "python",
   "nbconvert_exporter": "python",
   "pygments_lexer": "ipython3",
   "version": "3.7.4"
  }
 },
 "nbformat": 4,
 "nbformat_minor": 4
}
