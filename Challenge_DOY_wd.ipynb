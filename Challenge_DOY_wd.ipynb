{
 "cells": [
  {
   "cell_type": "markdown",
   "metadata": {},
   "source": [
    "# **Challenge: Compute the day of the year**\n",
    "### Wes Dyer \n",
    "### 5-Feb-2020"
   ]
  },
  {
   "cell_type": "code",
   "execution_count": 25,
   "metadata": {},
   "outputs": [],
   "source": [
    "# import modules \n",
    "import math \n",
    "import datetime"
   ]
  },
  {
   "cell_type": "code",
   "execution_count": 26,
   "metadata": {},
   "outputs": [
    {
     "name": "stdout",
     "output_type": "stream",
     "text": [
      "Day of the year is: 36\n"
     ]
    }
   ],
   "source": [
    "#input any date for the year 2020 to determine DOY \n",
    "input_date = datetime.datetime(2020, 2, 5) #(year, month, day)\n",
    "\n",
    "date = datetime.datetime(2020, 1, 1)\n",
    "DOY = (input_date - date).days + 1 #add 1 day\n",
    "\n",
    "print('Day of the year is:', DOY)"
   ]
  },
  {
   "cell_type": "markdown",
   "metadata": {},
   "source": [
    "### comment/question\n",
    "Is the \".days\" in the line of code \"DOY = (input_date - date).days + 1\" a submodule of datetime? Without writing the code \".days\" I simply could not write \"Doy = (input_date - date) + 1\" <-- this did not work"
   ]
  },
  {
   "cell_type": "markdown",
   "metadata": {},
   "source": [
    "----"
   ]
  },
  {
   "cell_type": "markdown",
   "metadata": {},
   "source": [
    "#### Check work with python function"
   ]
  },
  {
   "cell_type": "code",
   "execution_count": 2,
   "metadata": {},
   "outputs": [
    {
     "name": "stdout",
     "output_type": "stream",
     "text": [
      "39\n"
     ]
    }
   ],
   "source": [
    "from datetime import datetime\n",
    "doy = datetime.now().timetuple().tm_yday\n",
    "print(doy)"
   ]
  },
  {
   "cell_type": "code",
   "execution_count": null,
   "metadata": {},
   "outputs": [],
   "source": []
  }
 ],
 "metadata": {
  "kernelspec": {
   "display_name": "Python 3",
   "language": "python",
   "name": "python3"
  },
  "language_info": {
   "codemirror_mode": {
    "name": "ipython",
    "version": 3
   },
   "file_extension": ".py",
   "mimetype": "text/x-python",
   "name": "python",
   "nbconvert_exporter": "python",
   "pygments_lexer": "ipython3",
   "version": "3.7.4"
  }
 },
 "nbformat": 4,
 "nbformat_minor": 4
}
